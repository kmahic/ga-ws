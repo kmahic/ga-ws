{
 "cells": [
  {
   "cell_type": "markdown",
   "metadata": {},
   "source": [
    "# Genetiske algoritmer for å løse TSP\n",
    "\n",
    "## Problemdefinisjon\n",
    "Gitt et sett av byer og distansene mellom hvert par av byer, finn den korteste ruten som besøker alle byene nøyaktig én gang, og som returnerer til startpunktet. \n",
    "\n",
    "## Løsning\n",
    "Vi skal løse dette med en genetisk algoritme. Før vi begynner kan det være lurt å tenke gjennom alle komponentene vi trenger. \n",
    "1. En by og et sett med byer\n",
    "2. Et mål på distanse mellom byer \n",
    "3. En løsning på problemet, dvs. en rute for å reise mellom byene\n",
    "4. Validering og plotting av en rute "
   ]
  },
  {
   "cell_type": "markdown",
   "metadata": {},
   "source": [
    "#### 1. Byer \n",
    "Vi må definere en by og representere et sett med byer. I dette problemet er en by gitt av et (x,y)-koordinat, og vi velger å representere en by som et klasse-objekt `City`. Vi tar ikke inn noen liste av byer, men vi generer dem tilfeldig. Likevel passer vi på reproduserbarhet ved å ta inn et seed og re-instansiere seedet i metoden, slik at hver gang vi kaller metoden med samme parametre, får det samme resultatet ut. "
   ]
  },
  {
   "cell_type": "code",
   "execution_count": 1,
   "metadata": {},
   "outputs": [],
   "source": [
    "from dataclasses import dataclass\n",
    "import random\n",
    "import numpy as np\n",
    "\n",
    "seed = 42\n",
    "np.random.seed(seed)\n",
    "random.seed(seed)\n",
    "\n",
    "@dataclass(eq=True, frozen=True)\n",
    "class City:\n",
    "    \"Representing a city or a place, characterized by a (x,y)-coordinate\"\n",
    "    x: float\n",
    "    y: float\n",
    "    name: str\n",
    "\n",
    "def generate_cities(\n",
    "    n: int, width: int = 900, height: int = 600, seed: int = seed\n",
    ") -> list[City]:\n",
    "    \"Make a set of n cities, each with random coordinates within a (width x height) rectangle.\"\n",
    "    random.seed(seed * n)\n",
    "    return frozenset(\n",
    "        City(\n",
    "            x=random.randrange(width),\n",
    "            y=random.randrange(height),\n",
    "            name=chr(c + 97).upper(),\n",
    "        )\n",
    "        for c in range(n)\n",
    "    )"
   ]
  },
  {
   "cell_type": "markdown",
   "metadata": {},
   "source": [
    "#### 2. Et distansemål og fitness-funksjon\n",
    "Vi trenger et mål på hvor god en løsning er. Her er målet vårt å finne den _korteste ruten_ gitt et sett med byer, så det vil være naturlig for oss å definere en fitness score basert på total distanse man må reise mellom ruter. Merk at problemet kan kompliseres ytterligere ved å optimere på tid brukt mellom byer over distanse eller lignende. \n",
    "For å kunne måle total distanse i en rute, lager vi en funksjon `total_distance(tour)`. Denne funksjonen trenger en funksjon for å måle distansen mellom hver etterfølgende by, så vi definerer `distance(city, city)` for det.  "
   ]
  },
  {
   "cell_type": "code",
   "execution_count": 2,
   "metadata": {},
   "outputs": [],
   "source": [
    "def distance(A: City, B: City):\n",
    "    \"The euclidian distance between two cities\"\n",
    "    return np.sqrt((A.x - B.x) ** 2 + (A.y - B.y) ** 2)\n",
    "\n",
    "\n",
    "def total_distance(tour: list[City]) -> float:\n",
    "    \"The total of distances between each pair of consecutive cities in the tour.\"\n",
    "    return sum(distance(tour[i], tour[i - 1]) for i in range(len(tour)))\n"
   ]
  },
  {
   "cell_type": "markdown",
   "metadata": {},
   "source": [
    "#### 3. En rute / løsning (kromosom)\n",
    "Dette problemet handler om å finne en rute. En rute er selve løsningen vår, og en enkelt løsning (eller et individ) kaller vi for et kromosom i GA-verdenen. Vi definerer derfor nå et kromosom som en klasse med attributtene: \n",
    "- `tour` - rekkefølgen av byer å besøke for denne løsningen/dette kromosomet. \n",
    "- `fitness` - den kalkulerte fitness-scoren for denne løsningen gitt ruten sin. Denne er definert som den totale distansen av ruten i denne løsningen/dette kromosomet. \n",
    "\n"
   ]
  },
  {
   "cell_type": "code",
   "execution_count": 3,
   "metadata": {},
   "outputs": [],
   "source": [
    "@dataclass\n",
    "class Chromosome:\n",
    "    tour: list[City]\n",
    "    fitness: float\n",
    "\n",
    "    def __init__(self, tour: list[City] = None, cities: set[City] = None):\n",
    "        if (tour is None and cities is None): \n",
    "            raise AttributeError(\"Chromosome attempted initialized with tour=None and cities=None\")\n",
    "\n",
    "        if tour is None: \n",
    "            # if tour is not defined, randomly initialize tour\n",
    "            self.tour = random.sample(list(cities), len(cities))\n",
    "\n",
    "        else: \n",
    "            self.tour = tour\n",
    "\n",
    "        self.fitness = total_distance(self.tour)\n",
    "    \n",
    "    def __repr__(self):\n",
    "        tour_names = [c.name for c in self.tour]\n",
    "        return \"{ 'fitness': {:.1f}, 'tour': {} }\".format(self.fitness, ' -> '.join(tour_names))\n",
    "\n",
    "# Some types for readability \n",
    "Population = list[Chromosome]\n",
    "Tour = list[City]\n",
    "Chromosomes = list[Chromosome]\n"
   ]
  },
  {
   "cell_type": "markdown",
   "metadata": {},
   "source": [
    "#### 4. Validering og plotting \n",
    "Vi definerer til slutt en funksjon for å plotte en tour for å kunne visuelt validere en gitt løsning:"
   ]
  },
  {
   "cell_type": "code",
   "execution_count": 4,
   "metadata": {},
   "outputs": [],
   "source": [
    "%matplotlib inline\n",
    "import matplotlib.pyplot as plt\n",
    "import seaborn as sns \n",
    "\n",
    "sns.set_theme(style=\"whitegrid\")\n",
    "sns.set_context('notebook')\n",
    "plt.rc('font', family='serif')\n",
    "\n",
    "def plot_tour(tour: list[City]): \n",
    "    start = tour[0]\n",
    "    total_tour = tour + [start]\n",
    "    xs = [c.x for c in total_tour]\n",
    "    ys = [c.y for c in total_tour]\n",
    "\n",
    "    fig, ax = plt.subplots(figsize=(10,10/1.5))\n",
    "    ax.plot(xs, ys, \"bo-\")\n",
    "    \n",
    "    # mark the start as a big green circle\n",
    "    ax.plot(start.x, start.y, 'go', markersize = 10)\n",
    "\n",
    "    # annotate each point with the name of the cities\n",
    "    names = [c.name for c in tour]\n",
    "    for i, txt in enumerate(names):\n",
    "        ax.annotate(txt, (xs[i] + 10, ys[i] + 10))\n",
    "\n",
    "    fig.suptitle(\"GA TSP solution to {} cities with distance {:.1f}\".format(len(tour), total_distance(tour)))\n",
    "\n",
    "\n",
    "def valid_tour(tour: list[City], cities: list[City]):\n",
    "    \"\"\"\n",
    "    Validates that the tour is valid.\n",
    "    Each tour must contain each city exactly once.\n",
    "    \"\"\"\n",
    "    return set(tour) == set(cities) and len(tour) == len(cities)"
   ]
  },
  {
   "cell_type": "markdown",
   "metadata": {},
   "source": [
    "## Implementasjon av en genetisk algoritme\n",
    "Nå som vi har bestanddelene vi trenger for å løse dette problemet med en genetisk algoritme, er det opp til deg å definere selve innholdet i den genetiske algoritmen. \n",
    "\n",
    "Gangen, eller oppskriften, i en genetisk algoritme ser omtrent slik ut: \n",
    "\n",
    "Det første man begynner med er å _initialisere et sett med tilfeldige løsninger_. Deretter gjentar man følgende i $x$ generasjoner, eller til et stopp-kritere er nådd: \n",
    "1. **SELECTION** - Velg ut hvilke individer som skal være foreldre for den neste generasjonen\n",
    "2. **BREEDING** - Parr foreldrene med hverandre for å lage den neste generasjonen, barn. \n",
    "3. **MUTATION** - Mutering av barna, små avvik og justeringer. \n",
    "4. **SURVIVAL** - Velg ut hvilke individer som skal overleve til den neste generasjonen\n",
    "   \n",
    "For hver generasjon måler vi en del statistikk, og hvis vi får en ny beste løsning, lagrer vi denne. Løsningen til slutt er den beste løsningen i løpet av generasjonene algoritmen er kjørt. \n",
    "\n",
    "#### Nå er det opp til deg! \n",
    "Vi har gjort første steg for deg (initialisering av tilfeldige løsninger), men resten må du definere selv. Ta en kikk i `ga_functions.py` for noen hendige funksjoner som du kan benytte deg av! En funksjon, f.eks. `tournament_selection` kan importeres på følgende måte: \n",
    "```\n",
    "from ga_functions import tournament_selection\n",
    "...\n",
    "```\n",
    "Fyll inn der det står kommentert \"#TODO\" lenger nede. \n",
    "- `selection()`\n",
    "- `breeding()`\n",
    "- `mutation()`\n",
    "- `survival()`\n",
    "- `evolution()`\n",
    "  \n",
    "En øl venter på det laget som klarer best mulige score på $n=30$ byer. \n"
   ]
  },
  {
   "cell_type": "markdown",
   "metadata": {},
   "source": [
    "### Steg 1 - Initialization\n",
    "Vi lager en funksjon for å generere $n$ random løsninger til oss"
   ]
  },
  {
   "cell_type": "code",
   "execution_count": 5,
   "metadata": {},
   "outputs": [],
   "source": [
    "def initialize_population(population_size: int, cities: set[City], seed: int = 42) -> Population:\n",
    "    random.seed(seed * population_size)\n",
    "    return [Chromosome(cities = cities) for _ in range(population_size)]"
   ]
  },
  {
   "cell_type": "markdown",
   "metadata": {},
   "source": [
    "### Steg 2 - Selection\n",
    "Vi lager en funksjon `selection()` for å velge ut $n$ individer som foreldre til den neste generasjonen. Finn en passende funksjon fra `ga_functions.py` og implementer den her, evt. lag din egen! "
   ]
  },
  {
   "cell_type": "code",
   "execution_count": null,
   "metadata": {},
   "outputs": [],
   "source": [
    "def selection(population: Population, params: dict) -> Population:\n",
    "    \"Function to breed a child from two parent solutions\"\n",
    "    # TODO \n",
    "    # ... your code here ..."
   ]
  },
  {
   "cell_type": "markdown",
   "metadata": {},
   "source": [
    "#### Mulig løsning 👇"
   ]
  },
  {
   "cell_type": "code",
   "execution_count": 13,
   "metadata": {},
   "outputs": [],
   "source": [
    "from ga_functions import tournament_selection\n",
    "\n",
    "def selection(population: Population, params: dict) -> Population:\n",
    "    \"Function to breed a child from two parent solutions\"\n",
    "    return tournament_selection(population = population, select = len(population), tournament_size = params[\"tournament_size\"], tournament_winners = params[\"tournament_winners\"])"
   ]
  },
  {
   "cell_type": "markdown",
   "metadata": {},
   "source": [
    "### Steg 3 - Breeding\n",
    "Vi lager en funksjon `breed(parent1, parent2)` som parrer to foreldre med hverandre og lager en ny løsning. Finn en passende funksjon fra `ga_functions.py` og implementer den her, evt. lag din egen! \n",
    "\n",
    "Ikke tenk på `create_children()`, denne er ferdig implementert. "
   ]
  },
  {
   "cell_type": "code",
   "execution_count": null,
   "metadata": {},
   "outputs": [],
   "source": [
    "def breed(parent1: Chromosome, parent2: Chromosome, params: dict) -> list[Chromosome]:\n",
    "    \"Function to breed a child from two parent solutions\"\n",
    "    # TODO\n",
    "    # ... your code here ...\n",
    "\n",
    "def create_children(parents: Population, params: dict) -> Population:\n",
    "    \"Breeds a whole population of children given parents\"\n",
    "    children = []\n",
    "    for i in range(len(parents)):\n",
    "        parent1 = parents[i]\n",
    "        parent2 = parents[random.randint(0,len(parents)-1)]\n",
    "\n",
    "        offspring = breed(parent1, parent2, params)[0]\n",
    "\n",
    "        if (type(offspring) is list):\n",
    "            children += offspring\n",
    "        else:\n",
    "            children.append(offspring)\n",
    "\n",
    "    return children"
   ]
  },
  {
   "cell_type": "markdown",
   "metadata": {},
   "source": [
    "#### Mulig løsning 👇"
   ]
  },
  {
   "cell_type": "code",
   "execution_count": 7,
   "metadata": {},
   "outputs": [],
   "source": [
    "from ga_functions import ordered_crossover\n",
    "\n",
    "def breed(parent1: Chromosome, parent2: Chromosome, params: dict) -> Chromosomes:\n",
    "    \"Function to breed a child from two parent solutions\"\n",
    "    tours = ordered_crossover(parent1.tour, parent2.tour)\n",
    "    children = [Chromosome(tour = t) for t in tours]\n",
    "    return children\n",
    "\n",
    "def create_children(parents: Population, params: dict) -> Population:\n",
    "    \"Breeds a whole population of children given parents\"\n",
    "    children = []\n",
    "    for i in range(len(parents)):\n",
    "        parent1 = parents[i]\n",
    "        parent2 = parents[random.randint(0,len(parents)-1)]\n",
    "\n",
    "        offspring = breed(parent1, parent2, params)[0]\n",
    "\n",
    "        if (type(offspring) is list):\n",
    "            children += offspring\n",
    "        else:\n",
    "            children.append(offspring)\n",
    "\n",
    "    return children"
   ]
  },
  {
   "cell_type": "markdown",
   "metadata": {},
   "source": [
    "### Steg 4 - Mutation\n",
    "Vi lager en funksjon `mutation(child)` som parrer to foreldre med hverandre og lager en ny løsning. Finn en passende funksjon fra `ga_functions.py` og implementer den her, evt. lag din egen! "
   ]
  },
  {
   "cell_type": "code",
   "execution_count": null,
   "metadata": {},
   "outputs": [],
   "source": [
    "def mutate(chromosome: Chromosome, params: dict) -> Chromosome: \n",
    "    \"Function to mutate a solution\"\n",
    "    # TODO \n",
    "    # ... your code here ...\n",
    "\n",
    "def mutate_population(children: Population, params: dict) -> Population:\n",
    "    \"Mutates a whole population of solutions\"\n",
    "    mutated_children = [mutate(child, params) for child in children]\n",
    "    return mutated_children\n"
   ]
  },
  {
   "cell_type": "markdown",
   "metadata": {},
   "source": [
    "#### Mulig løsning 👇"
   ]
  },
  {
   "cell_type": "code",
   "execution_count": 8,
   "metadata": {},
   "outputs": [],
   "source": [
    "from ga_functions import swap_mutation\n",
    "\n",
    "def mutate(chromosome: Chromosome, params: dict) -> Chromosome: \n",
    "    mutated_tour = swap_mutation(chromosome.tour, params[\"mutation_probability\"])\n",
    "    return Chromosome(tour = mutated_tour)\n",
    "\n",
    "def mutate_population(children: Population, params: dict) -> Population:\n",
    "    \"Mutates a whole population of solutions\"\n",
    "    mutated_children = [mutate(child, params) for child in children]\n",
    "    return mutated_children"
   ]
  },
  {
   "cell_type": "markdown",
   "metadata": {},
   "source": [
    "### Steg 5 - Survival\n",
    "Vi lager en funksjon `survival(prev_population, children)` som bestemmer hvilke individer som skal overleve til neste generasjon, gitt den forrige populasjonen og barna. Finn en passende funksjon fra `ga_functions.py` og implementer den her, evt. lag din egen! "
   ]
  },
  {
   "cell_type": "code",
   "execution_count": null,
   "metadata": {},
   "outputs": [],
   "source": [
    "def survival(prev_population: Population, children: Population, params: dict) -> Population:\n",
    "    \"Function to choose the individuals that survive to the next generations.\"\n",
    "    # TODO \n",
    "    # ... your code here ..."
   ]
  },
  {
   "cell_type": "markdown",
   "metadata": {},
   "source": [
    "#### Mulig løsning 👇"
   ]
  },
  {
   "cell_type": "code",
   "execution_count": 9,
   "metadata": {},
   "outputs": [],
   "source": [
    "from ga_functions import elitist_survival \n",
    "\n",
    "def survival(prev_population: Population, children: Population, params: dict) -> Population:\n",
    "    return elitist_survival(population = prev_population, children = children, keep_elite_fraction = params[\"keep_elite_fraction\"])"
   ]
  },
  {
   "cell_type": "markdown",
   "metadata": {},
   "source": [
    "### Steg 6 - Evolution, Statistics and Solution\n",
    "Til slutt syr vi sammen alt i en funksjon som lager neste generasjon fra den foregående (en evolusjon). Den skal ta inn en populasjon, og returnere neste generasjon, og slik sy sammen alt vi har laget så langt. Denne funksjonen finnes ikke noe sted, så den må du lage fra scratch! "
   ]
  },
  {
   "cell_type": "code",
   "execution_count": null,
   "metadata": {},
   "outputs": [],
   "source": [
    "def evolve(population: Population, params: dict) -> Population: \n",
    "    \"Function to evolve a population to the next generation\"\n",
    "    # TODO \n",
    "    # ... your code here ... "
   ]
  },
  {
   "cell_type": "markdown",
   "metadata": {},
   "source": [
    "#### Mulig løsning 👇"
   ]
  },
  {
   "cell_type": "code",
   "execution_count": 10,
   "metadata": {},
   "outputs": [],
   "source": [
    "def evolve(population: Population, params: dict) -> Population: \n",
    "    \"Function to evolve a population to the next generation\"\n",
    "    \n",
    "    # velg foreldre\n",
    "    parents = selection(population, params)\n",
    "\n",
    "    # lag barn\n",
    "    children = create_children(parents, params)\n",
    "\n",
    "    # muter barna\n",
    "    children = mutate_population(children, params)\n",
    "\n",
    "    # velg ut hvem av barna som overlever\n",
    "    new_population = survival(population, children, params)\n",
    "\n",
    "    # returner ny generasjon \n",
    "    return new_population"
   ]
  },
  {
   "cell_type": "markdown",
   "metadata": {},
   "source": [
    "Vi lager også en funksjon for å hente ut statistikk om en generasjon, plotte statistikken over flere generasjoner, og en funksjon som løser hele problemet vårt gitt en liste med byer: `tsp()`"
   ]
  },
  {
   "cell_type": "code",
   "execution_count": 11,
   "metadata": {},
   "outputs": [],
   "source": [
    "from tqdm.notebook import tqdm \n",
    "\n",
    "def evaluate_generation(sorted_population: Population): \n",
    "    \"Henter statistikk for en generasjon\"\n",
    "    best = sorted_population[0]\n",
    "    worst = sorted_population[-1]\n",
    "    fitnesses = [c.fitness for c in sorted_population]\n",
    "    median_fitness = np.median(fitnesses)\n",
    "    mean_fitness = np.mean(fitnesses)\n",
    "    std_fitness = np.std(fitnesses)\n",
    "\n",
    "    return {\n",
    "        \"best_ind\": best, \n",
    "        \"worst_ind\": worst,\n",
    "        \"min\": best.fitness, \n",
    "        \"max\": worst.fitness,\n",
    "        \"median\": median_fitness, \n",
    "        \"mean\": mean_fitness,\n",
    "        \"std\": std_fitness\n",
    "    }\n",
    "\n",
    "import pandas as pd \n",
    "\n",
    "def plot_statistics(stats, columns = [\"mean\", \"max\", \"min\"], smoothing_window: int = -1):\n",
    "    \"Plotter statistikken over generasjonene som er kjørt\"\n",
    "    stats_df = pd.DataFrame(stats).drop([\"best_ind\", \"worst_ind\"], axis=1)\n",
    "    \n",
    "    if smoothing_window > 0:\n",
    "        ax = (stats_df[columns].rolling(window=smoothing_window).sum().dropna()[::smoothing_window] / smoothing_window).plot(figsize=(12,7))\n",
    "        ax.set_xlabel(\"generation\")\n",
    "        ax.set_ylabel(\"distance\")\n",
    "        \n",
    "    else: \n",
    "        ax = stats_df[columns].plot(figsize=(12,7))\n",
    "        ax.set_xlabel(\"generation\")\n",
    "        ax.set_ylabel(\"distance\")\n",
    "\n",
    "    ax.set_title(\"Statistikk over generasjoner\")\n",
    "\n",
    "def tsp(cities: frozenset[City], params: dict): \n",
    "    \"Løser TSP med en genetisk algoritme\"\n",
    "    population = initialize_population(params[\"population_size\"], cities)\n",
    "    population = sorted(population, key=lambda x: x.fitness)\n",
    "\n",
    "    generation_stats = []\n",
    "    best_solution = population[0]\n",
    "\n",
    "    for gen in tqdm(range(params[\"generations\"])):\n",
    "        population = sorted(evolve(population = population, params = params), key=lambda x: x.fitness)\n",
    "        stats = evaluate_generation(sorted_population = population)\n",
    "        generation_stats.append(stats)\n",
    "\n",
    "        gen_best = stats['best_ind']\n",
    "        if (gen_best.fitness < best_solution.fitness):\n",
    "            print(\"\\rCurrent highscore: {:.1f} (generation {})\".format(gen_best.fitness, gen), end=\"\")\n",
    "            best_solution = gen_best\n",
    "\n",
    "    return best_solution, generation_stats"
   ]
  },
  {
   "cell_type": "markdown",
   "metadata": {},
   "source": [
    "### Kjør og evaluer ytelsen\n",
    "\n",
    "\n",
    "Alle funksjonene du har laget så lang (selection, breed, mutate ++) tar inn et parameter `params`. I `params` må du definere hyperparameterne dine. Hvilke hyperparametre du trenger er avhengig av hva funksjonene dine tar inn og trenger. Disse kan tunes ganske mye, så det gjelder å finne en god kombinasjon!"
   ]
  },
  {
   "cell_type": "code",
   "execution_count": 12,
   "metadata": {},
   "outputs": [
    {
     "data": {
      "application/vnd.jupyter.widget-view+json": {
       "model_id": "6be45603c7e3460ea963cb278ac44ebb",
       "version_major": 2,
       "version_minor": 0
      },
      "text/plain": [
       "  0%|          | 0/100 [00:00<?, ?it/s]"
      ]
     },
     "metadata": {},
     "output_type": "display_data"
    },
    {
     "name": "stdout",
     "output_type": "stream",
     "text": [
      "Current highscore: 5849.4 (generation 96)"
     ]
    },
    {
     "data": {
      "image/png": "[encoded data removed]",
      "text/plain": [
       "<Figure size 720x480 with 1 Axes>"
      ]
     },
     "metadata": {},
     "output_type": "display_data"
    },
    {
     "data": {
      "image/png": "[encoded data removed]",
      "text/plain": [
       "<Figure size 864x504 with 1 Axes>"
      ]
     },
     "metadata": {},
     "output_type": "display_data"
    }
   ],
   "source": [
    "# Not all parameters here are necessarily relevant for you\n",
    "# You must define your own parameters\n",
    "# Run the code, and you'll quickly get an error message if some parameter is missing.\n",
    "params = {\n",
    "    # survival\n",
    "    \"keep_elite_fraction\": 0.05,\n",
    "\n",
    "    # selection\n",
    "    \"tournament_size\": 3,\n",
    "    \"tournament_winners\": 1,\n",
    "\n",
    "    # mutation\n",
    "    \"mutation_probability\": 0.1,\n",
    "\n",
    "    # GA\n",
    "    \"generations\": 100,\n",
    "    \"population_size\": 100\n",
    "}\n",
    "\n",
    "number_of_cities = 30\n",
    "cities = generate_cities(number_of_cities)\n",
    "best_solution, stats = tsp(cities, params)\n",
    "\n",
    "plot_tour(tour = best_solution.tour)\n",
    "plot_statistics(stats = stats, columns = [\"mean\", \"max\", \"min\"], smoothing_window=10)"
   ]
  },
  {
   "cell_type": "markdown",
   "metadata": {},
   "source": [
    "# Bra jobbet\n",
    "\n",
    "Det finnes flere og bedre metoder enn de som er implementert. Om du har kommet så langt og kjeder deg så kan dere se på nett om dere optimale algoritmer for å løse problemet"
   ]
  },
  {
   "cell_type": "code",
   "execution_count": null,
   "metadata": {},
   "outputs": [],
   "source": []
  }
 ],
 "metadata": {
  "interpreter": {
   "hash": "aee8b7b246df8f9039afb4144a1f6fd8d2ca17a180786b69acc140d282b71a49"
  },
  "kernelspec": {
   "display_name": "Python 3 (ipykernel)",
   "language": "python",
   "name": "python3"
  },
  "language_info": {
   "codemirror_mode": {
    "name": "ipython",
    "version": 3
   },
   "file_extension": ".py",
   "mimetype": "text/x-python",
   "name": "python",
   "nbconvert_exporter": "python",
   "pygments_lexer": "ipython3",
   "version": "3.9.18"
  }
 },
 "nbformat": 4,
 "nbformat_minor": 4
}
